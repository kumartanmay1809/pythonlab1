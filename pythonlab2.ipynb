{
  "nbformat": 4,
  "nbformat_minor": 0,
  "metadata": {
    "colab": {
      "name": "Untitled1.ipynb",
      "provenance": [],
      "collapsed_sections": [],
      "authorship_tag": "ABX9TyN3yTv5p8fY4KSJra97ia8k",
      "include_colab_link": true
    },
    "kernelspec": {
      "name": "python3",
      "display_name": "Python 3"
    }
  },
  "cells": [
    {
      "cell_type": "markdown",
      "metadata": {
        "id": "view-in-github",
        "colab_type": "text"
      },
      "source": [
        "<a href=\"https://colab.research.google.com/github/kumartanmay1809/pythonlab1/blob/main/pythonlab2.ipynb\" target=\"_parent\"><img src=\"https://colab.research.google.com/assets/colab-badge.svg\" alt=\"Open In Colab\"/></a>"
      ]
    },
    {
      "cell_type": "markdown",
      "metadata": {
        "id": "bDYP9Gcxfd8k"
      },
      "source": [
        "Display the simple intrest and compound intrest."
      ]
    },
    {
      "cell_type": "code",
      "metadata": {
        "colab": {
          "base_uri": "https://localhost:8080/"
        },
        "id": "ev5j4P_EfliE",
        "outputId": "ab16cec2-fb59-4c9f-a310-8b2244a45b08"
      },
      "source": [
        "    P=int(input(\"Enter principal amount :\"))\r\n",
        "    T=int(input(\"Enter the time period in month :\"))\r\n",
        "    R=int(input(\"Enter the rate of intrest :\"))\r\n",
        "  \r\n",
        "    si = (P* T * R ) /100\r\n",
        "    ci = P * (((1 + R/100) ** T) - 1)\r\n",
        "\r\n",
        "      \r\n",
        "    print('The Simple Interest is', si, '\\nThe compound Interest is', ci) \r\n",
        "  "
      ],
      "execution_count": 8,
      "outputs": [
        {
          "output_type": "stream",
          "text": [
            "Enter principal amount :100\n",
            "Enter the time period in month :2\n",
            "Enter the rate of intrest :10\n",
            "The Simple Interest is 20.0 \n",
            "The compound Interest is 21.000000000000018\n"
          ],
          "name": "stdout"
        }
      ]
    }
  ]
}