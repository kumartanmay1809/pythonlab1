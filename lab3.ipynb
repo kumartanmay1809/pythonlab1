{
  "nbformat": 4,
  "nbformat_minor": 0,
  "metadata": {
    "colab": {
      "name": "Untitled2.ipynb",
      "provenance": [],
      "authorship_tag": "ABX9TyMeeRN/Ep6cdwtFtThHV2Mw",
      "include_colab_link": true
    },
    "kernelspec": {
      "name": "python3",
      "display_name": "Python 3"
    },
    "language_info": {
      "name": "python"
    }
  },
  "cells": [
    {
      "cell_type": "markdown",
      "metadata": {
        "id": "view-in-github",
        "colab_type": "text"
      },
      "source": [
        "<a href=\"https://colab.research.google.com/github/kumartanmay1809/pythonlab1/blob/main/lab3.ipynb\" target=\"_parent\"><img src=\"https://colab.research.google.com/assets/colab-badge.svg\" alt=\"Open In Colab\"/></a>"
      ]
    },
    {
      "cell_type": "markdown",
      "metadata": {
        "id": "y0oPTw52aTAN"
      },
      "source": [
        "1.Create a list with tuples inside it(series),calculate the sum of elements in tuple and store the sum of tuples in second list."
      ]
    },
    {
      "cell_type": "code",
      "metadata": {
        "colab": {
          "base_uri": "https://localhost:8080/"
        },
        "id": "-aSQNENXgOHX",
        "outputId": "7fbb3c79-57f4-4c3c-9a79-be02f2b9a15f"
      },
      "source": [
        "l1=[(1,2,3),(2,3,4),(4,5,6)]\n",
        "print(\"list1 :\",l1)\n",
        "l2=[]\n",
        "for i in l1:\n",
        "    s=0\n",
        "    for j in i:\n",
        "      s+=j\n",
        "    l2.append(s)\n",
        "   \n",
        "print(\"list2 :\",l2)\n"
      ],
      "execution_count": 24,
      "outputs": [
        {
          "output_type": "stream",
          "text": [
            "list1 : [(1, 2, 3), (2, 3, 4), (4, 5, 6)]\n",
            "list2 : [6, 9, 15]\n"
          ],
          "name": "stdout"
        }
      ]
    },
    {
      "cell_type": "markdown",
      "metadata": {
        "id": "8xwRK-g-glz-"
      },
      "source": [
        "WAP to create a list and input numbers into it,then remove the repeated elements from it and display it back."
      ]
    },
    {
      "cell_type": "code",
      "metadata": {
        "colab": {
          "base_uri": "https://localhost:8080/"
        },
        "id": "93ZJqboViw_W",
        "outputId": "94199f22-dbc5-4abd-e44f-3aa47c40a88b"
      },
      "source": [
        "l1=[]\n",
        "n=int(input(\"Enter how many elements put into the list :\"))\n",
        "print(\"enter the elements into the list :\")\n",
        "for i in range(0,n):\n",
        "  i=int(input())\n",
        "  if i not in l1:\n",
        "     l1.append(i)\n",
        "print(\"New list:\",l1)   "
      ],
      "execution_count": 32,
      "outputs": [
        {
          "output_type": "stream",
          "text": [
            "Enter how many elements put into the list :5\n",
            "enter the elements into the list :\n",
            "3\n",
            "3\n",
            "4\n",
            "5\n",
            "3\n",
            "New list: [3, 4, 5]\n"
          ],
          "name": "stdout"
        }
      ]
    }
  ]
}