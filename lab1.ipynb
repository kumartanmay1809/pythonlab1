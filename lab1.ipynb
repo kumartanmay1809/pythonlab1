{
  "nbformat": 4,
  "nbformat_minor": 0,
  "metadata": {
    "colab": {
      "name": "Untitled0.ipynb",
      "provenance": [],
      "authorship_tag": "ABX9TyPPfJpbkUrh2aUMwrhUzcKZ",
      "include_colab_link": true
    },
    "kernelspec": {
      "name": "python3",
      "display_name": "Python 3"
    }
  },
  "cells": [
    {
      "cell_type": "markdown",
      "metadata": {
        "id": "view-in-github",
        "colab_type": "text"
      },
      "source": [
        "<a href=\"https://colab.research.google.com/github/kumartanmay1809/pythonlab1/blob/main/lab1.ipynb\" target=\"_parent\"><img src=\"https://colab.research.google.com/assets/colab-badge.svg\" alt=\"Open In Colab\"/></a>"
      ]
    },
    {
      "cell_type": "markdown",
      "metadata": {
        "id": "fiL5PjNAi7qM"
      },
      "source": [
        "1.WAP to input your nmae , age and address and print them."
      ]
    },
    {
      "cell_type": "code",
      "metadata": {
        "colab": {
          "base_uri": "https://localhost:8080/"
        },
        "id": "g4pGWJsSjXIx",
        "outputId": "a32c3b60-8fae-4e3e-dc86-7a0691f41ba0"
      },
      "source": [
        "name=input(\"Enter your name :\")\r\n",
        "age=int(input(\"Enter your age :\"))\r\n",
        "address=input(\"Enter your address :\")\r\n",
        "print(\"NAME :\",name , \"  AGE :\",age ,   \"  ADDRESS :\",address)"
      ],
      "execution_count": 4,
      "outputs": [
        {
          "output_type": "stream",
          "text": [
            "Enter your name :Tanmaya Kumar Jena\n",
            "Enter your age :19\n",
            "Enter your address :Buguda\n",
            "NAME : Tanmaya Kumar Jena   AGE : 19   ADDRESS : Buguda\n"
          ],
          "name": "stdout"
        }
      ]
    },
    {
      "cell_type": "code",
      "metadata": {
        "colab": {
          "base_uri": "https://localhost:8080/"
        },
        "id": "M5Tw5RulnIxb",
        "outputId": "1e9cac14-c657-46a6-c812-73d61bdd1d36"
      },
      "source": [
        "math=int(input(\"Enter math marks :\"))\r\n",
        "phy=int(input(\"Enter phy marks :\"))\r\n",
        "che=int(input(\"Enter che marks :\"))\r\n",
        "total=int(input(\"Enter total marks :\"))\r\n",
        "sum=math+phy+che\r\n",
        "print(\"sum :\",sum )\r\n",
        "percentage=(sum/total)*100\r\n",
        "print(\"percentage :\",percentage)"
      ],
      "execution_count": 9,
      "outputs": [
        {
          "output_type": "stream",
          "text": [
            "Enter math marks :59\n",
            "Enter phy marks :67\n",
            "Enter che marks :88\n",
            "Enter total marks :300\n",
            "sum : 214\n",
            "percentage : 71.33333333333334\n"
          ],
          "name": "stdout"
        }
      ]
    },
    {
      "cell_type": "markdown",
      "metadata": {
        "id": "VM1_FdYXmyyl"
      },
      "source": [
        "2.WAp to input your marks for three subjects then find sum and percentage."
      ]
    },
    {
      "cell_type": "markdown",
      "metadata": {
        "id": "7L3l5ZPPqA_t"
      },
      "source": [
        "WAP to find the area of a circle."
      ]
    },
    {
      "cell_type": "code",
      "metadata": {
        "colab": {
          "base_uri": "https://localhost:8080/"
        },
        "id": "NSairufpqIim",
        "outputId": "bae0cbd1-fed6-4882-e540-8a27b480041b"
      },
      "source": [
        "import math\r\n",
        "r=int(input(\"Enter the radius of circle:\"))\r\n",
        "area=math.pi*r*r\r\n",
        "print(\"Area of circle is :\",area)"
      ],
      "execution_count": 10,
      "outputs": [
        {
          "output_type": "stream",
          "text": [
            "Enter the radius of circle:10\n",
            "Area of circle is : 314.1592653589793\n"
          ],
          "name": "stdout"
        }
      ]
    },
    {
      "cell_type": "markdown",
      "metadata": {
        "id": "H0AD-gExrgYt"
      },
      "source": [
        "WAP to find the area and perimeter of the triangle."
      ]
    },
    {
      "cell_type": "code",
      "metadata": {
        "colab": {
          "base_uri": "https://localhost:8080/"
        },
        "id": "af7PN2pkrpWL",
        "outputId": "1faa6792-62d0-49d9-ff4d-e0f3bc1d47b9"
      },
      "source": [
        "x=float(input(\"Enter the first side :\"))\r\n",
        "y=float(input(\"Enter the second side :\"))\r\n",
        "z=float(input(\"Enter the third side :\"))\r\n",
        "perimeter=x+y+z\r\n",
        "print(\"perimeter of the circle is :\",perimeter)\r\n",
        "s=perimeter/2\r\n",
        "area=(s*(s-x)*(s-y)*(s-z))**0.5\r\n",
        "print(\"area of the circle is :\",area)"
      ],
      "execution_count": 12,
      "outputs": [
        {
          "output_type": "stream",
          "text": [
            "Enter the first side :5\n",
            "Enter the second side :7\n",
            "Enter the third side :8\n",
            "perimeter of the circle is : 20.0\n",
            "area of the circle is : 17.320508075688775\n"
          ],
          "name": "stdout"
        }
      ]
    },
    {
      "cell_type": "markdown",
      "metadata": {
        "id": "v-dhSjW1s52A"
      },
      "source": [
        "WAP to find the volume of the sphere."
      ]
    },
    {
      "cell_type": "code",
      "metadata": {
        "colab": {
          "base_uri": "https://localhost:8080/"
        },
        "id": "gqH8k5mTtB4r",
        "outputId": "d5416ef1-e610-4eb4-a285-713f4c84e88a"
      },
      "source": [
        "import math\r\n",
        "r=int(input(\"Enter the radius of sphere:\"))\r\n",
        "volume=(4/3)*math.pi*r**3\r\n",
        "print(\"volume of the sphere is :\",volume)"
      ],
      "execution_count": 13,
      "outputs": [
        {
          "output_type": "stream",
          "text": [
            "Enter the radius of sphere:5\n",
            "volume of the sphere is : 523.5987755982989\n"
          ],
          "name": "stdout"
        }
      ]
    }
  ]
}