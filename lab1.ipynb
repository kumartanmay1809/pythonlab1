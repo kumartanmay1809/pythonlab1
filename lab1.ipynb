{
  "nbformat": 4,
  "nbformat_minor": 0,
  "metadata": {
    "colab": {
      "name": "Untitled0.ipynb",
      "provenance": [],
      "authorship_tag": "ABX9TyPCvH6pCxhzV0lHGZFi/RAh",
      "include_colab_link": true
    },
    "kernelspec": {
      "name": "python3",
      "display_name": "Python 3"
    }
  },
  "cells": [
    {
      "cell_type": "markdown",
      "metadata": {
        "id": "view-in-github",
        "colab_type": "text"
      },
      "source": [
        "<a href=\"https://colab.research.google.com/github/kumartanmay1809/pythonlab1/blob/main/lab1.ipynb\" target=\"_parent\"><img src=\"https://colab.research.google.com/assets/colab-badge.svg\" alt=\"Open In Colab\"/></a>"
      ]
    },
    {
      "cell_type": "markdown",
      "metadata": {
        "id": "fiL5PjNAi7qM"
      },
      "source": [
        "1.WAP to input your nmae , age and address and print them."
      ]
    },
    {
      "cell_type": "code",
      "metadata": {
        "colab": {
          "base_uri": "https://localhost:8080/"
        },
        "id": "g4pGWJsSjXIx",
        "outputId": "a32c3b60-8fae-4e3e-dc86-7a0691f41ba0"
      },
      "source": [
        "name=input(\"Enter your name :\")\r\n",
        "age=int(input(\"Enter your age :\"))\r\n",
        "address=input(\"Enter your address :\")\r\n",
        "print(\"NAME :\",name , \"  AGE :\",age ,   \"  ADDRESS :\",address)"
      ],
      "execution_count": 4,
      "outputs": [
        {
          "output_type": "stream",
          "text": [
            "Enter your name :Tanmaya Kumar Jena\n",
            "Enter your age :19\n",
            "Enter your address :Buguda\n",
            "NAME : Tanmaya Kumar Jena   AGE : 19   ADDRESS : Buguda\n"
          ],
          "name": "stdout"
        }
      ]
    }
  ]
}