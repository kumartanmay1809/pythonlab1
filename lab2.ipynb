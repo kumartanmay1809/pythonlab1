{
  "nbformat": 4,
  "nbformat_minor": 0,
  "metadata": {
    "colab": {
      "name": "Untitled1.ipynb",
      "provenance": [],
      "collapsed_sections": [],
      "authorship_tag": "ABX9TyPhAlMW4IjPtCgg3CFYH0m/",
      "include_colab_link": true
    },
    "kernelspec": {
      "name": "python3",
      "display_name": "Python 3"
    }
  },
  "cells": [
    {
      "cell_type": "markdown",
      "metadata": {
        "id": "view-in-github",
        "colab_type": "text"
      },
      "source": [
        "<a href=\"https://colab.research.google.com/github/kumartanmay1809/pythonlab1/blob/main/lab2.ipynb\" target=\"_parent\"><img src=\"https://colab.research.google.com/assets/colab-badge.svg\" alt=\"Open In Colab\"/></a>"
      ]
    },
    {
      "cell_type": "markdown",
      "metadata": {
        "id": "bDYP9Gcxfd8k"
      },
      "source": [
        "1.Display the simple intrest and compound intrest."
      ]
    },
    {
      "cell_type": "code",
      "metadata": {
        "colab": {
          "base_uri": "https://localhost:8080/"
        },
        "id": "ev5j4P_EfliE",
        "outputId": "ab16cec2-fb59-4c9f-a310-8b2244a45b08"
      },
      "source": [
        "    P=int(input(\"Enter principal amount :\"))\r\n",
        "    T=int(input(\"Enter the time period in month :\"))\r\n",
        "    R=int(input(\"Enter the rate of intrest :\"))\r\n",
        "  \r\n",
        "    si = (P* T * R ) /100\r\n",
        "    ci = P * (((1 + R/100) ** T) - 1)\r\n",
        "\r\n",
        "      \r\n",
        "    print('The Simple Interest is', si, '\\nThe compound Interest is', ci) \r\n",
        "  "
      ],
      "execution_count": 8,
      "outputs": [
        {
          "output_type": "stream",
          "text": [
            "Enter principal amount :100\n",
            "Enter the time period in month :2\n",
            "Enter the rate of intrest :10\n",
            "The Simple Interest is 20.0 \n",
            "The compound Interest is 21.000000000000018\n"
          ],
          "name": "stdout"
        }
      ]
    },
    {
      "cell_type": "markdown",
      "metadata": {
        "id": "9YapLTR2n2uy"
      },
      "source": [
        "2.WAP to input first name,mid name and last name into three variables and then apply concatenation."
      ]
    },
    {
      "cell_type": "code",
      "metadata": {
        "colab": {
          "base_uri": "https://localhost:8080/"
        },
        "id": "jkG3RfivojPR",
        "outputId": "5b36946c-604d-4812-dc79-c7697dd2b7f8"
      },
      "source": [
        "fname = input(\"Input your First Name : \")\r\n",
        "mname = input(\"Input your mid Name : \")\r\n",
        "lname = input(\"Input your Last Name : \")\r\n",
        "print (fname +\" \" + mname + \" \" + lname)"
      ],
      "execution_count": 9,
      "outputs": [
        {
          "output_type": "stream",
          "text": [
            "Input your First Name : Tanmaya\n",
            "Input your mid Name : Kumar\n",
            "Input your Last Name : Jena\n",
            "Tanmaya Kumar Jena\n"
          ],
          "name": "stdout"
        }
      ]
    },
    {
      "cell_type": "markdown",
      "metadata": {
        "id": "f8jwBlQJpCKl"
      },
      "source": [
        "3.WAP to create a list with multiple dimensions and display the elements of it."
      ]
    },
    {
      "cell_type": "code",
      "metadata": {
        "colab": {
          "base_uri": "https://localhost:8080/"
        },
        "id": "eesnc1wWqK01",
        "outputId": "0952c5b3-7e61-40b3-8ec6-425ec43cca15"
      },
      "source": [
        "listA = []\r\n",
        "\r\n",
        "n = int(input(\"Enter number of elements in the list : \"))\r\n",
        "\r\n",
        "for i in range(0, n):\r\n",
        "   print(\"Enter element No-{}: \".format(i + 1))\r\n",
        "   ele = [input(), int(input())]\r\n",
        "   listA.append(ele)\r\n",
        "print(\"The list is: \\n\",listA)"
      ],
      "execution_count": 11,
      "outputs": [
        {
          "output_type": "stream",
          "text": [
            "Enter number of elements in the list : 2\n",
            "Enter element No-1: \n",
            "10\n",
            "50\n",
            "Enter element No-2: \n",
            "40\n",
            "70\n",
            "The list is: \n",
            " [['10', 50], ['40', 70]]\n"
          ],
          "name": "stdout"
        }
      ]
    },
    {
      "cell_type": "markdown",
      "metadata": {
        "id": "xbmJqtMhqLM7"
      },
      "source": [
        "4.WAP to implement type conversions on different datatypes."
      ]
    },
    {
      "cell_type": "code",
      "metadata": {
        "colab": {
          "base_uri": "https://localhost:8080/"
        },
        "id": "4KP7FioQuWL9",
        "outputId": "0e5f625b-1579-4516-b0a8-a1f79eea6809"
      },
      "source": [
        "num1 =input(\"enter a number :\")\r\n",
        "num2 =input(\"enter anther number :\")\r\n",
        "\r\n",
        "new = num1 + num2\r\n",
        "\r\n",
        "print(\"datatype of num1:\",type(num1))\r\n",
        "print(\"datatype of num2:\",type(num2))\r\n",
        "\r\n",
        "print(\"Value of new:\",new)\r\n",
        "print(\"datatype of new:\",type(new))"
      ],
      "execution_count": 13,
      "outputs": [
        {
          "output_type": "stream",
          "text": [
            "enter a number :10\n",
            "enter anther number :4.5\n",
            "datatype of num1: <class 'str'>\n",
            "datatype of num2: <class 'str'>\n",
            "Value of new: 104.5\n",
            "datatype of new: <class 'str'>\n"
          ],
          "name": "stdout"
        }
      ]
    },
    {
      "cell_type": "markdown",
      "metadata": {
        "id": "09X3OhXVwLPU"
      },
      "source": [
        "5.Find the distance between 2 points using pythogorean theorem,where the coordinates of two points given input."
      ]
    },
    {
      "cell_type": "code",
      "metadata": {
        "colab": {
          "base_uri": "https://localhost:8080/"
        },
        "id": "iV3Jj_nZxEWK",
        "outputId": "5cc430e0-7d1b-4c9a-9a58-ec8888da97a1"
      },
      "source": [
        "import math\r\n",
        "x = [2, 4]\r\n",
        "y = [1, 1]\r\n",
        "distance = math.sqrt( ((x[0]-y[0])**2)+((x[1]-y[1])**2) )\r\n",
        "\r\n",
        "print(\" Distance between two points is\",distance)"
      ],
      "execution_count": 15,
      "outputs": [
        {
          "output_type": "stream",
          "text": [
            " Distance between two points is 3.1622776601683795\n"
          ],
          "name": "stdout"
        }
      ]
    }
  ]
}